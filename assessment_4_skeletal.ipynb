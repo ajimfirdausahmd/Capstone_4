{
 "cells": [
  {
   "cell_type": "markdown",
   "metadata": {},
   "source": [
    "Here's some guide for this assessment:\n",
    "\n",
    "1. Obtain the dataset file from the assessment instruction.\n",
    "2. The dataset file is split into image and label folder. You need to find a way to read all the images and labels as numpy array.\n",
    "3. The most straight forward way to read an image is to use OpenCV (cv2.imread())\n",
    "4. Resize your image and label into width and height of (128,128)\n",
    "5. For the label, it is in the form of binary mask image (black and white image), you need to find a way to read the mask image, then process the value of the pixels so that they become class label ([0,255] --> [0,1])\n",
    "6. You can perform train test split on the numpy arrays for the images and labels using scikit learn.\n",
    "7. You can convert the numpy array into tensorflow tensors using this method: tf.data.Dataset.from_tensor_slices()\n",
    "8. You can combine the images and labels together to form a single dataset using this method: tf.data.Dataset.zip(), do this for both train and test data.\n",
    "9. Perform the same dataset preparation step as the demo.\n",
    "10. Construct a UNet, then train this model so that it reaches at least 80% accuracy for both train and test.\n",
    "11. Deploy the model and make prediction\n",
    "\n",
    "(Hint: You can refer to the image segmentation tutorial from tensorflow)"
   ]
  },
  {
   "cell_type": "code",
   "execution_count": null,
   "metadata": {},
   "outputs": [],
   "source": [
    "#1. Import packages\n",
    "import tensorflow as tf\n",
    "from tensorflow_examples.models.pix2pix import pix2pix\n",
    "from IPython.display import clear_output\n",
    "import matplotlib.pyplot as plt\n",
    "import cv2\n",
    "import numpy as np\n",
    "import glob, os\n",
    "\n",
    "filepath = \"PLACE YOUR OWN FILEPATH HERE\"\n",
    "images = []\n",
    "masks = []"
   ]
  },
  {
   "cell_type": "code",
   "execution_count": null,
   "metadata": {},
   "outputs": [],
   "source": [
    "#Use os.listdir() method to list down all the image file, then use a for loop to read the images.\n",
    "\"\"\"\n",
    "for ____ in os.listdir(____):\n",
    "    function you will use here:\n",
    "    os.path.join()\n",
    "    cv2.imread()\n",
    "    cv2.cvtColor()\n",
    "    cv2.resize()\n",
    "\n",
    "Use this for loop, do the same thing for the label. But I suggest you read the label as a grayscale image.\n",
    "\"\"\"\n",
    "\n",
    "#2. Load images\n",
    "image_path = os.path.join(filepath,'inputs')\n",
    "for img in os.listdir(image_path):\n",
    "    #Get the full path of the image file\n",
    "    full_path = os.path.join(image_path,img)\n",
    "    #Read the image file based on the full path\n",
    "    img_np = cv2.imread(full_path)\n",
    "    #Convert the image from bgr to rgb\n",
    "    img_np = cv2.cvtColor(img_np,cv2.COLOR_BGR2RGB)\n",
    "    #Resize the image into 128x128\n",
    "    img_np = cv2.resize(img_np,(128,128))\n",
    "    #Place the image into the empty list\n",
    "    images.append(img_np)\n",
    "\n",
    "#3. Load masks\n",
    "mask_path = os.path.join(filepath,'masks_png')\n",
    "for mask in os.listdir(mask_path):\n",
    "    #Get the full path of the mask file\n",
    "    full_path = os.path.join(mask_path,mask)\n",
    "    #Read the mask file as a grayscale image\n",
    "    mask_np = cv2.imread(full_path,cv2.IMREAD_GRAYSCALE)\n",
    "    #Resize the image into 128x128\n",
    "    mask_np = cv2.resize(mask_np,(128,128))\n",
    "    #Place the mask into the empty list\n",
    "    masks.append(mask_np)"
   ]
  },
  {
   "cell_type": "code",
   "execution_count": null,
   "metadata": {},
   "outputs": [],
   "source": [
    "#4. Convert the list of np array into a full np array\n",
    "images_np = np.array(images)\n",
    "masks_np = np.array(masks)"
   ]
  },
  {
   "cell_type": "code",
   "execution_count": null,
   "metadata": {},
   "outputs": [],
   "source": [
    "#5. Data preprocessing\n",
    "#5.1. Expand the mask dimension to include the channel axis\n",
    "masks_np_exp = np.expand_dims(masks_np,axis=-1)\n",
    "#5.2. Convert the mask value into just 0 and 1\n",
    "converted_masks_np = np.round(masks_np_exp/255)\n",
    "#5.3. Normalize the images pixel value\n",
    "normalized_images_np = images_np/255.0"
   ]
  },
  {
   "cell_type": "code",
   "execution_count": null,
   "metadata": {},
   "outputs": [],
   "source": [
    "#6. Perform train test split\n",
    "from sklearn.model_selection import train_test_split\n",
    "SEED = 12345\n",
    "X_train,X_test,y_train,y_test = train_test_split(normalized_images_np,converted_masks_np,shuffle=True,random_state=SEED)"
   ]
  },
  {
   "cell_type": "code",
   "execution_count": null,
   "metadata": {},
   "outputs": [],
   "source": [
    "#7. Convert the numpy array into tensorflow tensors\n",
    "X_train_tensor = tf.data.Dataset.from_tensor_slices(X_train)\n",
    "X_test_tensor = tf.data.Dataset.from_tensor_slices(X_test)\n",
    "y_train_tensor = tf.data.Dataset.from_tensor_slices(y_train)\n",
    "y_test_tensor = tf.data.Dataset.from_tensor_slices(y_test)"
   ]
  },
  {
   "cell_type": "code",
   "execution_count": null,
   "metadata": {},
   "outputs": [],
   "source": [
    "#8. Combine features and labels together to form a zip dataset\n",
    "train = tf.data.Dataset.zip((X_train_tensor,y_train_tensor))\n",
    "test = tf.data.Dataset.zip((X_test_tensor,y_test_tensor))"
   ]
  },
  {
   "cell_type": "code",
   "execution_count": null,
   "metadata": {},
   "outputs": [],
   "source": [
    "\"\"\"\n",
    "Continue the rest of your assessment here.\n",
    "\"\"\"\n",
    "#Convert the zip dataset into prefetch dataset"
   ]
  }
 ],
 "metadata": {
  "kernelspec": {
   "display_name": "ypai10",
   "language": "python",
   "name": "python3"
  },
  "language_info": {
   "name": "python",
   "version": "3.11.11"
  }
 },
 "nbformat": 4,
 "nbformat_minor": 2
}
